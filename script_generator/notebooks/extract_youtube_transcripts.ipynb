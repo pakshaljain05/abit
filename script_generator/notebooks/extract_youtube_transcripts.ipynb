{
 "cells": [
  {
   "cell_type": "code",
   "execution_count": 2,
   "metadata": {},
   "outputs": [],
   "source": [
    "from dotenv import load_dotenv\n",
    "load_dotenv() ## load all the nevironment variables\n",
    "import os\n",
    "# from googleapiclient import build\n",
    "import requests\n",
    "import json\n",
    "from bs4 import BeautifulSoup\n",
    "from youtube_transcript_api import YouTubeTranscriptApi\n",
    "from googleapiclient.discovery import build\n",
    "import pandas as pd\n",
    "import scrapetube\n",
    "import time\n",
    "# from youtube_api import YoutubeDataApi"
   ]
  },
  {
   "cell_type": "code",
   "execution_count": 3,
   "metadata": {},
   "outputs": [
    {
     "data": {
      "text/plain": [
       "'d:\\\\Projects\\\\abit\\\\script_generator\\\\notebooks'"
      ]
     },
     "execution_count": 3,
     "metadata": {},
     "output_type": "execute_result"
    }
   ],
   "source": [
    "%pwd"
   ]
  },
  {
   "cell_type": "code",
   "execution_count": 4,
   "metadata": {},
   "outputs": [],
   "source": [
    "os.chdir('../')"
   ]
  },
  {
   "cell_type": "code",
   "execution_count": 2,
   "metadata": {},
   "outputs": [
    {
     "name": "stdout",
     "output_type": "stream",
     "text": [
      "foxhollowgames\n"
     ]
    }
   ],
   "source": [
    "# channel_name = 'The ArmchairHistorian'# user input \n",
    "channel_name = input()# user input \n",
    "print(channel_name)\n",
    "# youtube_api_key = os.getenv(\"YOUTUBE_API_KEY\")"
   ]
  },
  {
   "cell_type": "code",
   "execution_count": null,
   "metadata": {},
   "outputs": [],
   "source": [
    "# Psych2go\n",
    "# Salim_Ahmed\n",
    "# Marcus-Jones"
   ]
  },
  {
   "cell_type": "code",
   "execution_count": null,
   "metadata": {},
   "outputs": [],
   "source": [
    "video_path = \"data\\\\video_data\\\\\"\n",
    "transcripts_path = \"data\\\\transcripts_data\\\\\""
   ]
  },
  {
   "cell_type": "code",
   "execution_count": 5,
   "metadata": {},
   "outputs": [],
   "source": [
    "channel_name='Psych2go'"
   ]
  },
  {
   "cell_type": "code",
   "execution_count": 6,
   "metadata": {},
   "outputs": [],
   "source": [
    "error_video_lists=[]\n",
    "x=[]\n",
    "y=['video_id','video_title','publish_time','total_views','video_length','video_description']"
   ]
  },
  {
   "cell_type": "code",
   "execution_count": 7,
   "metadata": {},
   "outputs": [],
   "source": [
    "videos = scrapetube.get_channel(  \n",
    "    # channel_id = channel_id,\n",
    "    # channel_url: str = None,\n",
    "    channel_username = channel_name,\n",
    "    # limit = 1,\n",
    "    sleep = 1,\n",
    "    # proxies: dict = None,\n",
    "    sort_by = \"newest\",                  #     Literal[\"newest\", \"oldest\", \"popular\"]\n",
    "    content_type = \"videos\"   #    Literal[\"videos\", \"shorts\", \"streams\"]\n",
    "    )\n",
    "\n",
    "for video in videos:\n",
    "   \n",
    "    # print(video)\n",
    "    # y=video.copy()\n",
    "    # print(video['publishedTimeText']['simpleText'])\n",
    "    # sample=video.copy()\n",
    "    video_id=video['videoId']\n",
    "    video_title=video['title']['runs'][0]['text']\n",
    "    video_description = video['descriptionSnippet']['runs'][0]['text']\n",
    "    video_length = video['lengthText']['simpleText']\n",
    "    # print(video_title)\n",
    "    publish_time=video['publishedTimeText']['simpleText']\n",
    "    try:\n",
    "        total_views=video['viewCountText']['simpleText']\n",
    "    except:\n",
    "        print(video_title)\n",
    "        error_video_lists.append(video_title)\n",
    "\n",
    "        total_views = 'PREMIUM'\n",
    "    x.append([video_id,video_title,publish_time,total_views,video_length,video_description])\n",
    "    \n",
    "    # print(video['title'])\n",
    "    # print(video.values())\n",
    "    # print(video['videoId'])\n",
    "\n",
    "    # video_ids.append(video['videoId'])\n",
    "    "
   ]
  },
  {
   "cell_type": "code",
   "execution_count": null,
   "metadata": {},
   "outputs": [],
   "source": [
    "video_df=pd.DataFrame(data=x,columns=y)"
   ]
  },
  {
   "cell_type": "code",
   "execution_count": null,
   "metadata": {},
   "outputs": [],
   "source": [
    "video_df.to_csv(f\"data\\\\video_data\\\\{channel_name}_video_data.csv\")"
   ]
  },
  {
   "cell_type": "code",
   "execution_count": null,
   "metadata": {},
   "outputs": [],
   "source": [
    "# publish_time = '1 month ago'"
   ]
  },
  {
   "cell_type": "code",
   "execution_count": 55,
   "metadata": {},
   "outputs": [],
   "source": [
    "def filter_time(df, publish_time):\n",
    "    condition = df['publish_time'] == publish_time\n",
    "    df = df.loc[:condition.idxmax()]\n",
    "    return df"
   ]
  },
  {
   "cell_type": "code",
   "execution_count": null,
   "metadata": {},
   "outputs": [],
   "source": [
    "video_df = filter_time(video_df,publish_time)"
   ]
  },
  {
   "cell_type": "code",
   "execution_count": 44,
   "metadata": {},
   "outputs": [],
   "source": [
    "def convert_to_minutes(time_list):\n",
    "    minutes_list = []\n",
    "    for time_str in time_list:\n",
    "        # Split the time string into components\n",
    "        parts = list(map(int, time_str.split(':')))\n",
    "        \n",
    "        # Initialize total_minutes\n",
    "        total_minutes = 0\n",
    "        \n",
    "        # Calculate total minutes based on the number of parts\n",
    "        if len(parts) == 3:  # Format is \"hours:minutes:seconds\"\n",
    "            hours, minutes, seconds = parts\n",
    "            total_minutes = hours * 60 + minutes + seconds / 60\n",
    "        elif len(parts) == 2:  # Format is \"minutes:seconds\"\n",
    "            minutes, seconds = parts\n",
    "            total_minutes = minutes + seconds / 60\n",
    "        elif len(parts) == 1:  # Format is \"seconds\"\n",
    "            total_minutes = parts[0] / 60\n",
    "        \n",
    "        # Append the result to the list\n",
    "        minutes_list.append(round(total_minutes,2))\n",
    "    \n",
    "    return minutes_list\n"
   ]
  },
  {
   "cell_type": "code",
   "execution_count": 46,
   "metadata": {},
   "outputs": [
    {
     "name": "stderr",
     "output_type": "stream",
     "text": [
      "C:\\Users\\Pakshal Jain\\AppData\\Local\\Temp\\ipykernel_5548\\1022202905.py:1: SettingWithCopyWarning: \n",
      "A value is trying to be set on a copy of a slice from a DataFrame.\n",
      "Try using .loc[row_indexer,col_indexer] = value instead\n",
      "\n",
      "See the caveats in the documentation: https://pandas.pydata.org/pandas-docs/stable/user_guide/indexing.html#returning-a-view-versus-a-copy\n",
      "  subset_df['video_length_mins']=convert_to_minutes(subset_df['video_length'])\n"
     ]
    }
   ],
   "source": [
    "video_df['video_length_mins']=convert_to_minutes(video_df['video_length'])"
   ]
  },
  {
   "cell_type": "code",
   "execution_count": 23,
   "metadata": {},
   "outputs": [],
   "source": [
    "def view_split(x):\n",
    "    x=int(x.split(' ')[0].replace(',',''))\n",
    "    return x"
   ]
  },
  {
   "cell_type": "code",
   "execution_count": 25,
   "metadata": {},
   "outputs": [
    {
     "name": "stderr",
     "output_type": "stream",
     "text": [
      "C:\\Users\\Pakshal Jain\\AppData\\Local\\Temp\\ipykernel_5548\\3769320690.py:1: SettingWithCopyWarning: \n",
      "A value is trying to be set on a copy of a slice from a DataFrame.\n",
      "Try using .loc[row_indexer,col_indexer] = value instead\n",
      "\n",
      "See the caveats in the documentation: https://pandas.pydata.org/pandas-docs/stable/user_guide/indexing.html#returning-a-view-versus-a-copy\n",
      "  video_df['view_count']=video_df['total_views'].apply(view_split)\n"
     ]
    }
   ],
   "source": [
    "video_df['view_count']=video_df['total_views'].apply(view_split)"
   ]
  },
  {
   "cell_type": "code",
   "execution_count": 91,
   "metadata": {},
   "outputs": [],
   "source": [
    "# for video in videos:\n",
    "#     # print(video)\n",
    "#     # y=video.copy()\n",
    "#     # print(video['publishedTimeText']['simpleText'])\n",
    "#     video_id=video['videoId']\n",
    "#     video_title=video['title']['runs']['text']\n",
    "#     publish_time=video['publishedTimeText']['simpleText']\n",
    "#     total_views=video['viewCountText']['simpleText']\n",
    "#     print(video['title'])\n",
    "#     # print(video.values())\n",
    "#     # print(video['videoId'])\n",
    "#     # video_ids.append(video['videoId'])"
   ]
  },
  {
   "cell_type": "code",
   "execution_count": 27,
   "metadata": {},
   "outputs": [],
   "source": [
    "video_ids=video_df['video_id'].tolist()"
   ]
  },
  {
   "cell_type": "code",
   "execution_count": 50,
   "metadata": {},
   "outputs": [],
   "source": [
    "def extract_transcript_details(video_ids):\n",
    "    transcript_list=[]\n",
    "    errors_list=[]\n",
    "    for video_id in video_ids:\n",
    "        try:\n",
    "            transcript_text = YouTubeTranscriptApi.get_transcript(video_id)\n",
    "\n",
    "            transcript = \"\"\n",
    "            for i in transcript_text:\n",
    "                transcript += \" \" + i[\"text\"]\n",
    "\n",
    "            transcript_list.append(transcript)\n",
    "            # return transcript\n",
    "\n",
    "        except Exception as e:\n",
    "            print(e)\n",
    "            transcript_list.append('No Transcript')\n",
    "            print(video_id)\n",
    "            errors_list.append(video_id)\n",
    "    return transcript_list\n",
    "\n",
    "            # pass\n",
    "        # raise e"
   ]
  },
  {
   "cell_type": "code",
   "execution_count": 51,
   "metadata": {},
   "outputs": [
    {
     "name": "stdout",
     "output_type": "stream",
     "text": [
      "1.2688398281733195\n"
     ]
    }
   ],
   "source": [
    "start=time.time()\n",
    "transcripts_list = extract_transcript_details(video_ids)\n",
    "end=time.time()\n",
    "print((end-start)/60)"
   ]
  },
  {
   "cell_type": "code",
   "execution_count": 52,
   "metadata": {},
   "outputs": [
    {
     "name": "stderr",
     "output_type": "stream",
     "text": [
      "C:\\Users\\Pakshal Jain\\AppData\\Local\\Temp\\ipykernel_5548\\374399334.py:1: SettingWithCopyWarning: \n",
      "A value is trying to be set on a copy of a slice from a DataFrame.\n",
      "Try using .loc[row_indexer,col_indexer] = value instead\n",
      "\n",
      "See the caveats in the documentation: https://pandas.pydata.org/pandas-docs/stable/user_guide/indexing.html#returning-a-view-versus-a-copy\n",
      "  video_df['transcripts'] = transcripts_list\n",
      "C:\\Users\\Pakshal Jain\\AppData\\Local\\Temp\\ipykernel_5548\\374399334.py:2: SettingWithCopyWarning: \n",
      "A value is trying to be set on a copy of a slice from a DataFrame.\n",
      "Try using .loc[row_indexer,col_indexer] = value instead\n",
      "\n",
      "See the caveats in the documentation: https://pandas.pydata.org/pandas-docs/stable/user_guide/indexing.html#returning-a-view-versus-a-copy\n",
      "  video_df['character_count']=video_df['transcripts'].str.len()\n",
      "C:\\Users\\Pakshal Jain\\AppData\\Local\\Temp\\ipykernel_5548\\374399334.py:3: SettingWithCopyWarning: \n",
      "A value is trying to be set on a copy of a slice from a DataFrame.\n",
      "Try using .loc[row_indexer,col_indexer] = value instead\n",
      "\n",
      "See the caveats in the documentation: https://pandas.pydata.org/pandas-docs/stable/user_guide/indexing.html#returning-a-view-versus-a-copy\n",
      "  video_df['word_count']=video_df['transcripts'].str.split().apply(len)\n"
     ]
    }
   ],
   "source": [
    "video_df['transcripts'] = transcripts_list\n",
    "video_df['character_count']=video_df['transcripts'].str.len()\n",
    "video_df['word_count']=video_df['transcripts'].str.split().apply(len)"
   ]
  },
  {
   "cell_type": "code",
   "execution_count": 54,
   "metadata": {},
   "outputs": [],
   "source": [
    "video_df.to_csv(f\"{transcripts_path}{channel_name}_transcripts.csv\")"
   ]
  },
  {
   "cell_type": "code",
   "execution_count": null,
   "metadata": {},
   "outputs": [],
   "source": []
  }
 ],
 "metadata": {
  "kernelspec": {
   "display_name": "abit_mod1",
   "language": "python",
   "name": "python3"
  },
  "language_info": {
   "codemirror_mode": {
    "name": "ipython",
    "version": 3
   },
   "file_extension": ".py",
   "mimetype": "text/x-python",
   "name": "python",
   "nbconvert_exporter": "python",
   "pygments_lexer": "ipython3",
   "version": "3.10.14"
  }
 },
 "nbformat": 4,
 "nbformat_minor": 2
}
