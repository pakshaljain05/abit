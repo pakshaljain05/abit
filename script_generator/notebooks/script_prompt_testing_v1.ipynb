{
 "cells": [
  {
   "cell_type": "code",
   "execution_count": 26,
   "metadata": {},
   "outputs": [],
   "source": [
    "import pandas as pd\n",
    "import numpy as np\n",
    "from dotenv import load_dotenv\n",
    "load_dotenv()\n",
    "import os\n",
    "from langchain.llms import OpenAI\n",
    "# from langchain_openai import OpenAI\n",
    "from langchain_openai import ChatOpenAI\n",
    "from langchain.prompts import PromptTemplate\n",
    "from langchain.chains import LLMChain\n",
    "from langchain.chains import OpenAIModerationChain"
   ]
  },
  {
   "cell_type": "code",
   "execution_count": 5,
   "metadata": {},
   "outputs": [
    {
     "data": {
      "text/plain": [
       "'d:\\\\Projects\\\\abit\\\\script_generator\\\\notebooks'"
      ]
     },
     "execution_count": 5,
     "metadata": {},
     "output_type": "execute_result"
    }
   ],
   "source": [
    "%pwd"
   ]
  },
  {
   "cell_type": "code",
   "execution_count": 6,
   "metadata": {},
   "outputs": [],
   "source": [
    "os.chdir('../')"
   ]
  },
  {
   "cell_type": "code",
   "execution_count": 7,
   "metadata": {},
   "outputs": [],
   "source": [
    "# os.environ['OPENAI_API_KEY'] = 'your-openai-api-key'\n",
    "api_key=os.getenv('OPENAI_API_KEY')"
   ]
  },
  {
   "cell_type": "code",
   "execution_count": 8,
   "metadata": {},
   "outputs": [],
   "source": [
    "channel_name='Psych2go'"
   ]
  },
  {
   "cell_type": "code",
   "execution_count": 9,
   "metadata": {},
   "outputs": [],
   "source": [
    "video_path = \"data\\\\video_data\\\\\"\n",
    "transcripts_path = \"data\\\\transcripts_data\\\\\""
   ]
  },
  {
   "cell_type": "code",
   "execution_count": 10,
   "metadata": {},
   "outputs": [],
   "source": [
    "df=pd.read_csv(f\"{transcripts_path}{channel_name}_transcripts.csv\")"
   ]
  },
  {
   "cell_type": "code",
   "execution_count": 39,
   "metadata": {},
   "outputs": [],
   "source": [
    "# df"
   ]
  },
  {
   "cell_type": "code",
   "execution_count": null,
   "metadata": {},
   "outputs": [],
   "source": [
    "'''1. Tonality (e.g., friendly, professional, humorous)\n",
    "2. Length of the video in minutes and seconds\n",
    "3. Presence of humor and examples\n",
    "4. Description of the hook in the intro\n",
    "5. General structure of the video (e.g., intro, main content, conclusion)\n",
    "6. Any other notable features that make the video unique to the creator's style.'''"
   ]
  },
  {
   "cell_type": "code",
   "execution_count": 38,
   "metadata": {},
   "outputs": [
    {
     "name": "stderr",
     "output_type": "stream",
     "text": [
      "d:\\Anaconda\\envs\\abit_mod1\\lib\\site-packages\\langchain_core\\_api\\deprecation.py:119: LangChainDeprecationWarning: The class `OpenAI` was deprecated in LangChain 0.0.10 and will be removed in 0.3.0. An updated version of the class exists in the langchain-openai package and should be used instead. To use it run `pip install -U langchain-openai` and import as `from langchain_openai import OpenAI`.\n",
      "  warn_deprecated(\n"
     ]
    }
   ],
   "source": [
    "llm = OpenAI(api_key=os.getenv('OPENAI_API_KEY'),model='gpt-3.5-turbo-instruct')\n"
   ]
  },
  {
   "cell_type": "code",
   "execution_count": 27,
   "metadata": {},
   "outputs": [],
   "source": [
    "# Define your prompt template to analyze video features\n",
    "template = \"\"\"\n",
    "You are an AI assistant who is an expert in analyzing YouTube video content. I will provide you with a transcription of a YouTube video. Your task is to identify and describe the following features of the video:\n",
    "\n",
    "1. Tonality (e.g., friendly, professional, humorous)\n",
    "2. Video structure (introduction, content segments, conclusion, hook)\n",
    "3. Length and pacing (average length, pacing, transitions)\n",
    "4. Presence and type of humor\n",
    "5. Visual style (editing, graphics, colors)\n",
    "6. Audio and music (background music, sound effects, voice modulation)\n",
    "7. Engagement techniques (questions, calls to action, interactive elements)\n",
    "8. Common content topics\n",
    "9. Personality traits\n",
    "10. Community interaction\n",
    "\n",
    "Here is the transcription of the video:\n",
    "\"{transcription}\"\n",
    "\n",
    "Instructions :\n",
    "{instruction}\n",
    "Please provide a detailed analysis of the above features.\n",
    "\"\"\"\n",
    "\n",
    "# Create the prompt template\n",
    "prompt = PromptTemplate(input_variables=[\"transcription\"], template=template)\n",
    "\n",
    "# Create an LLMChain with your LLM and prompt template\n",
    "# chain = LLMChain(llm=llm, prompt=prompt)"
   ]
  },
  {
   "cell_type": "code",
   "execution_count": 33,
   "metadata": {},
   "outputs": [],
   "source": [
    "# Example YouTube video transcriptions\n",
    "video_transcriptions = [\n",
    "    {\n",
    "        \"transcription\": df['transcripts'][2]\n",
    "    },\n",
    "    {\n",
    "        \"transcription\": df['transcripts'][3]\n",
    "    },\n",
    "    {\n",
    "        \"transcription\": df['transcripts'][4]\n",
    "    }\n",
    "]\n",
    "\n",
    "\n"
   ]
  },
  {
   "cell_type": "code",
   "execution_count": 40,
   "metadata": {},
   "outputs": [],
   "source": [
    "llm_chain = prompt | llm"
   ]
  },
  {
   "cell_type": "code",
   "execution_count": 35,
   "metadata": {},
   "outputs": [
    {
     "data": {
      "text/plain": [
       "\" do you think there's such a thing as loving someone too much we all know that loving someone is a beautiful experience but it's important to maintain a healthy balance in a relationship because just as love has the power to inspire uplift and bring immense Joy To Our Lives it can also make us obsessed miserable and feel out of control When Love becomes excessive and all consuming it can lead to detrimental consequences for both individuals involved in this video we delve into the complexities of loving someone too much and explore the warning signs and potential pitfalls of an unhealthy attachment by understanding the delicate balance between love and unhealthy fixation we can navigate our relationships with greater self-awareness maintaining a healthier and more fulfilling emotional connection with that said here are six psychology backed warning signs that your love for someone may be veering into unhealthy territory according to experts obsessive thoughts while daydreaming and thinking about the person we like is actually very normal it's still important to be mindful about when we've crossed the line to unhealthy constantly thinking about them to such an excessive degree that it interferes with your daily functioning can be a sign of loving them too much says psychologist Dr Susi ferello you may find it difficult to focus on other aspects of your life or overanalyze everything they say or do thinking there's some sort of hidden meaning when really you've just become obsessively preoccupied with them dependency and isolation another definite red flag of unhealthy love is dependency and isolation that is when you begin to depend on your partner so much that you feel unable to make your own decisions or do anything without their presence or validation you may also be investing so much of your time with them that it's caused you to isolate yourself and neglect your friends family and other important relationships according to psychologist Dr Karen soski and mental health journalist Kristen Karen Shian healthy love should encourage and support your connections with others as well as your Independence and sense of identity not take away from it lack of personal boundaries similarly when you love someone so much that it becomes unhealthy both of your personal boundaries blow together according to psychologist Dr Aaron Benz this can manifest in a number of problematic ways such as sacrificing your own needs for theirs constantly prioritizing them feeling responsible for their happiness or obliged to fix their problems and losing sight of who you are without them in a healthy and loving relationship it's important to maintain a sense of individuality autonomy and self-respect within a relationship neglecting yourself according to clinical social worker Terry Gaspard neglecting your own well-being interests and needs in favor of prioritizing the other person's happiness and desires can be a sign of an unhealthy level of love it's important to maintain a a balance between caring for yourself and caring for your partner because loving them should be a healthy reflection of how you love yourself says Gaspar so be sure to check in on yourself and step away from your relationship every now and then to just spend quality time with yourself and do the things that make you happy over idealizing next loving someone so much you begin ignoring excusing or enabling their toxic traits and behaviors is another important warning sign to look out for according to an AR published by better help overlooking or excusing mistreatment or disrespect from them due to an excessive love or fear of losing them is a clear sign of an unhealthy Dynamic similarly you may love them so much that you create an idealized image of them and ignore all their flaws either way it's essential to have a realistic view of the person you love and your relationship with them and not let your feelings Cloud your judgment and make you tolerate behaviors that are harmful or damaging towards you or others emotional roller coaster finally if your emotions are constantly in turmoil due to the relationship with frequent extreme highs and lows it may indicate an unhealthy attachment according to balp loving someone too much can quickly become an emotional roller coaster when you make your happiness and selfworth dependent on them instead healthy love should provide stability trust and emotional support it should affirm your self-esteem and support your emotional well-being not tear it down in conclusion it's important to regularly assess the health and balance of your relationships and seek help or guidance if you notice any signs of an unhealthy attachment seeking guidance from a trusted friend family member or therapist can be helpful in gaining perspective and making decisions that prioritize your well-being so what are your thoughts on this video what made you realize you loved someone too much that it was becoming unhealthy let us know in the comments below\""
      ]
     },
     "execution_count": 35,
     "metadata": {},
     "output_type": "execute_result"
    }
   ],
   "source": [
    "video_transcriptions[0][\"transcription\"]"
   ]
  },
  {
   "cell_type": "code",
   "execution_count": 41,
   "metadata": {},
   "outputs": [
    {
     "data": {
      "text/plain": [
       "'\\n1. Tonality: The tonality of the video is informative and educational. It is presented in a professional and serious manner, but also has a friendly and relatable tone. The speaker uses a calm and measured voice, with occasional moments of emphasis to highlight important points. The topic of loving someone too much is presented with sensitivity and care, acknowledging that it can be a delicate and complex issue.\\n\\n2. Video structure: The video follows a traditional structure, starting with an introduction that sets the topic and purpose of the video. It then proceeds to cover six warning signs of loving someone too much in different content segments, each one introduced by the speaker. The video ends with a conclusion and a call to action for the viewer to assess their own relationships and seek help if needed. The hook of the video is the title and the topic itself, as it is a common and relatable experience for many people.\\n\\n3. Length and pacing: The average length of the video is approximately 7 minutes and 30 seconds. The pacing is steady and consistent throughout, with the speaker delivering information at a comfortable pace. The transitions between each warning sign are smooth and well-paced, allowing the viewer to absorb the information without feeling rushed.\\n\\n4. Presence and type of humor: The video'"
      ]
     },
     "execution_count": 41,
     "metadata": {},
     "output_type": "execute_result"
    }
   ],
   "source": [
    "llm_chain.invoke({\"transcription\": video_transcriptions[0][\"transcription\"]})"
   ]
  },
  {
   "cell_type": "code",
   "execution_count": 21,
   "metadata": {},
   "outputs": [],
   "source": []
  },
  {
   "cell_type": "code",
   "execution_count": 30,
   "metadata": {},
   "outputs": [
    {
     "name": "stdout",
     "output_type": "stream",
     "text": [
      "0 {'transcription': \" do you think there's such a thing as loving someone too much we all know that loving someone is a beautiful experience but it's important to maintain a healthy balance in a relationship because just as love has the power to inspire uplift and bring immense Joy To Our Lives it can also make us obsessed miserable and feel out of control When Love becomes excessive and all consuming it can lead to detrimental consequences for both individuals involved in this video we delve into the complexities of loving someone too much and explore the warning signs and potential pitfalls of an unhealthy attachment by understanding the delicate balance between love and unhealthy fixation we can navigate our relationships with greater self-awareness maintaining a healthier and more fulfilling emotional connection with that said here are six psychology backed warning signs that your love for someone may be veering into unhealthy territory according to experts obsessive thoughts while daydreaming and thinking about the person we like is actually very normal it's still important to be mindful about when we've crossed the line to unhealthy constantly thinking about them to such an excessive degree that it interferes with your daily functioning can be a sign of loving them too much says psychologist Dr Susi ferello you may find it difficult to focus on other aspects of your life or overanalyze everything they say or do thinking there's some sort of hidden meaning when really you've just become obsessively preoccupied with them dependency and isolation another definite red flag of unhealthy love is dependency and isolation that is when you begin to depend on your partner so much that you feel unable to make your own decisions or do anything without their presence or validation you may also be investing so much of your time with them that it's caused you to isolate yourself and neglect your friends family and other important relationships according to psychologist Dr Karen soski and mental health journalist Kristen Karen Shian healthy love should encourage and support your connections with others as well as your Independence and sense of identity not take away from it lack of personal boundaries similarly when you love someone so much that it becomes unhealthy both of your personal boundaries blow together according to psychologist Dr Aaron Benz this can manifest in a number of problematic ways such as sacrificing your own needs for theirs constantly prioritizing them feeling responsible for their happiness or obliged to fix their problems and losing sight of who you are without them in a healthy and loving relationship it's important to maintain a sense of individuality autonomy and self-respect within a relationship neglecting yourself according to clinical social worker Terry Gaspard neglecting your own well-being interests and needs in favor of prioritizing the other person's happiness and desires can be a sign of an unhealthy level of love it's important to maintain a a balance between caring for yourself and caring for your partner because loving them should be a healthy reflection of how you love yourself says Gaspar so be sure to check in on yourself and step away from your relationship every now and then to just spend quality time with yourself and do the things that make you happy over idealizing next loving someone so much you begin ignoring excusing or enabling their toxic traits and behaviors is another important warning sign to look out for according to an AR published by better help overlooking or excusing mistreatment or disrespect from them due to an excessive love or fear of losing them is a clear sign of an unhealthy Dynamic similarly you may love them so much that you create an idealized image of them and ignore all their flaws either way it's essential to have a realistic view of the person you love and your relationship with them and not let your feelings Cloud your judgment and make you tolerate behaviors that are harmful or damaging towards you or others emotional roller coaster finally if your emotions are constantly in turmoil due to the relationship with frequent extreme highs and lows it may indicate an unhealthy attachment according to balp loving someone too much can quickly become an emotional roller coaster when you make your happiness and selfworth dependent on them instead healthy love should provide stability trust and emotional support it should affirm your self-esteem and support your emotional well-being not tear it down in conclusion it's important to regularly assess the health and balance of your relationships and seek help or guidance if you notice any signs of an unhealthy attachment seeking guidance from a trusted friend family member or therapist can be helpful in gaining perspective and making decisions that prioritize your well-being so what are your thoughts on this video what made you realize you loved someone too much that it was becoming unhealthy let us know in the comments below\"}\n"
     ]
    },
    {
     "ename": "TypeError",
     "evalue": "'RunnableSequence' object is not callable",
     "output_type": "error",
     "traceback": [
      "\u001b[1;31m---------------------------------------------------------------------------\u001b[0m",
      "\u001b[1;31mTypeError\u001b[0m                                 Traceback (most recent call last)",
      "Cell \u001b[1;32mIn[30], line 4\u001b[0m\n\u001b[0;32m      2\u001b[0m \u001b[38;5;28;01mfor\u001b[39;00m idx, video \u001b[38;5;129;01min\u001b[39;00m \u001b[38;5;28menumerate\u001b[39m(video_transcriptions):\n\u001b[0;32m      3\u001b[0m     \u001b[38;5;28mprint\u001b[39m(idx,video)\n\u001b[1;32m----> 4\u001b[0m     response \u001b[38;5;241m=\u001b[39m \u001b[43mllm_chain\u001b[49m\u001b[43m(\u001b[49m\u001b[43m{\u001b[49m\u001b[38;5;124;43m\"\u001b[39;49m\u001b[38;5;124;43mtranscription\u001b[39;49m\u001b[38;5;124;43m\"\u001b[39;49m\u001b[43m:\u001b[49m\u001b[43mvideo\u001b[49m\u001b[43m[\u001b[49m\u001b[38;5;124;43m\"\u001b[39;49m\u001b[38;5;124;43mtranscription\u001b[39;49m\u001b[38;5;124;43m\"\u001b[39;49m\u001b[43m]\u001b[49m\u001b[43m}\u001b[49m\u001b[43m)\u001b[49m\n\u001b[0;32m      5\u001b[0m     \u001b[38;5;28mprint\u001b[39m(response)\n\u001b[0;32m      6\u001b[0m     \u001b[38;5;66;03m# response = chain.run({\"transcription\": video[\"transcription\"]})\u001b[39;00m\n\u001b[0;32m      7\u001b[0m     \u001b[38;5;66;03m# print(f\"Video {idx + 1} Analysis:\\n{response}\\n\")\u001b[39;00m\n",
      "\u001b[1;31mTypeError\u001b[0m: 'RunnableSequence' object is not callable"
     ]
    }
   ],
   "source": [
    "# Analyze each transcription\n",
    "for idx, video in enumerate(video_transcriptions):\n",
    "    print(idx,video)\n",
    "    response = llm_chain({\"transcription\":video[\"transcription\"]})\n",
    "    print(response)\n",
    "    # response = chain.run({\"transcription\": video[\"transcription\"]})\n",
    "    # print(f\"Video {idx + 1} Analysis:\\n{response}\\n\")"
   ]
  },
  {
   "cell_type": "code",
   "execution_count": null,
   "metadata": {},
   "outputs": [],
   "source": []
  },
  {
   "cell_type": "code",
   "execution_count": null,
   "metadata": {},
   "outputs": [],
   "source": [
    "# # Define your prompt template\n",
    "# template = \"Translate the following English text to French: {text}\"\n",
    "# prompt = PromptTemplate(input_variables=[\"text\"], template=template)\n",
    "\n",
    "# # Create an LLMChain with your LLM and prompt template\n",
    "# chain = LLMChain(llm=llm, prompt=prompt)\n",
    "\n",
    "# # Example data\n",
    "# data = [\n",
    "#     {\"text\": \"Hello, how are you?\"},\n",
    "#     {\"text\": \"What is your name?\"},\n",
    "#     {\"text\": \"This is a test of the translation system.\"}\n",
    "# ]\n",
    "\n",
    "# # Perform prompt tuning on your data\n",
    "# for item in data:\n",
    "#     response = chain.run(item)\n",
    "#     print(f\"Input: {item['text']}\\nOutput: {response}\\n\")\n"
   ]
  }
 ],
 "metadata": {
  "kernelspec": {
   "display_name": "abit_mod1",
   "language": "python",
   "name": "python3"
  },
  "language_info": {
   "codemirror_mode": {
    "name": "ipython",
    "version": 3
   },
   "file_extension": ".py",
   "mimetype": "text/x-python",
   "name": "python",
   "nbconvert_exporter": "python",
   "pygments_lexer": "ipython3",
   "version": "3.10.14"
  }
 },
 "nbformat": 4,
 "nbformat_minor": 2
}
